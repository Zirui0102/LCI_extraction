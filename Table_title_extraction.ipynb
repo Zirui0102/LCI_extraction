{
 "cells": [
  {
   "cell_type": "code",
   "execution_count": 32,
   "id": "5b43d9dc-9a8c-43f7-988b-c4710d1a56fb",
   "metadata": {},
   "outputs": [
    {
     "name": "stdout",
     "output_type": "stream",
     "text": [
      "Collecting openpyxl\n",
      "  Downloading openpyxl-3.1.3-py2.py3-none-any.whl.metadata (2.5 kB)\n",
      "Collecting et-xmlfile (from openpyxl)\n",
      "  Downloading et_xmlfile-1.1.0-py3-none-any.whl.metadata (1.8 kB)\n",
      "Downloading openpyxl-3.1.3-py2.py3-none-any.whl (251 kB)\n",
      "   ---------------------------------------- 0.0/251.3 kB ? eta -:--:--\n",
      "   - -------------------------------------- 10.2/251.3 kB ? eta -:--:--\n",
      "   --------- ----------------------------- 61.4/251.3 kB 812.7 kB/s eta 0:00:01\n",
      "   ----------------- -------------------- 112.6/251.3 kB 930.9 kB/s eta 0:00:01\n",
      "   ----------------- -------------------- 112.6/251.3 kB 930.9 kB/s eta 0:00:01\n",
      "   ----------------------------------- ---- 225.3/251.3 kB 1.1 MB/s eta 0:00:01\n",
      "   ----------------------------------- ---- 225.3/251.3 kB 1.1 MB/s eta 0:00:01\n",
      "   ----------------------------------- ---- 225.3/251.3 kB 1.1 MB/s eta 0:00:01\n",
      "   -------------------------------------  245.8/251.3 kB 718.0 kB/s eta 0:00:01\n",
      "   -------------------------------------- 251.3/251.3 kB 669.7 kB/s eta 0:00:00\n",
      "Downloading et_xmlfile-1.1.0-py3-none-any.whl (4.7 kB)\n",
      "Installing collected packages: et-xmlfile, openpyxl\n",
      "Successfully installed et-xmlfile-1.1.0 openpyxl-3.1.3\n",
      "Note: you may need to restart the kernel to use updated packages.\n"
     ]
    }
   ],
   "source": [
    "pip install openpyxl"
   ]
  },
  {
   "cell_type": "code",
   "execution_count": 1,
   "id": "07f22951-df04-4dfd-809d-ac64b3639ea8",
   "metadata": {},
   "outputs": [],
   "source": [
    "import openai\n",
    "import requests\n",
    "import PyPDF2\n",
    "import re\n",
    "import os\n",
    "import requests\n",
    "import pandas as pd\n",
    "import tiktoken\n",
    "import time\n",
    "from openai import OpenAI\n",
    "from io import StringIO\n",
    "from sklearn.metrics.pairwise import cosine_similarity\n",
    "from sklearn.manifold import TSNE\n",
    "from nltk.tokenize import word_tokenize\n",
    "import numpy as np\n",
    "import ast"
   ]
  },
  {
   "cell_type": "code",
   "execution_count": 2,
   "id": "cd40005d-08eb-4f59-8165-8355c25d8dd0",
   "metadata": {},
   "outputs": [],
   "source": [
    "client = OpenAI(\n",
    "     api_key=os.environ.get(\"OPENAI_API_KEY\"),)"
   ]
  },
  {
   "cell_type": "code",
   "execution_count": 3,
   "id": "c4283e6a-a40c-47ad-b08a-99046391efcd",
   "metadata": {},
   "outputs": [],
   "source": [
    "#extract paper titles from a list of file paths\n",
    "def extract_titles(file_paths):\n",
    "    \n",
    "    titles = []\n",
    "    for path in file_paths:\n",
    "        # Extract the file name without the extension\n",
    "        match = re.search(r'([^/\\\\]+)\\.pdf$', path)\n",
    "        if match:\n",
    "            title = match.group(1)\n",
    "            # Remove the specified suffix if present\n",
    "            titles.append(title)\n",
    "    \n",
    "    return pd.DataFrame(titles, columns=['Paper_title'])"
   ]
  },
  {
   "cell_type": "code",
   "execution_count": 4,
   "id": "b3f8fde5-3dbc-4b76-b4ce-f0f9d2945518",
   "metadata": {},
   "outputs": [],
   "source": [
    "#define a function to extract table titles\n",
    "def table_titles(pdf_path):\n",
    "    def extract_table_titles(pdf_path):\n",
    "        with open(pdf_path, 'rb') as file:\n",
    "            reader = PyPDF2.PdfReader(file)\n",
    "            num_pages = len(reader.pages)\n",
    "            table_titles = []\n",
    "    \n",
    "            # Regular expression to find table titles\n",
    "            table_title_regex = re.compile(r'[Tt][Aa][Bb][Ll][Ee]+\\.?+\\s*[A-Z]?\\d+\\.?\\s+[A-Z]+.*')\n",
    "    \n",
    "            for i in range(num_pages):\n",
    "                page = reader.pages[i]\n",
    "                text = page.extract_text()\n",
    "                if text:\n",
    "                    found_titles = table_title_regex.findall(text)\n",
    "                    table_titles.extend(found_titles)\n",
    "            return table_titles\n",
    "            \n",
    "    table_titles = extract_table_titles(pdf_path)\n",
    "    single_cell_content = ' | '.join(table_titles)\n",
    "    df = pd.DataFrame([[single_cell_content]], columns=['Table_title'])\n",
    "    df['Table_title'] = df['Table_title'].str.replace(r'\\n', ' ', regex=True)\n",
    "                \n",
    "    return df"
   ]
  },
  {
   "cell_type": "code",
   "execution_count": 5,
   "id": "289ec3d9-cb88-4a5b-8602-2609ffcf57ee",
   "metadata": {},
   "outputs": [],
   "source": [
    "def get_embedding(text, model=\"text-embedding-ada-002\"):\n",
    "    text = text.replace(\"\\n\", \" \")\n",
    "    return client.embeddings.create(input = [text], model=model).data[0].embedding"
   ]
  },
  {
   "cell_type": "code",
   "execution_count": 6,
   "id": "b63253ec-36d0-4409-8560-9b9e45a4a2e9",
   "metadata": {},
   "outputs": [],
   "source": [
    "def df_to_csv(df, file_name):\n",
    "    \"\"\"Write a DataFrame to a CSV file.\"\"\"\n",
    "    df.to_csv(file_name, index=False, escapechar='\\\\')"
   ]
  },
  {
   "cell_type": "code",
   "execution_count": 13,
   "id": "6bb10049-0c9e-448f-b9dd-d6297009f67a",
   "metadata": {},
   "outputs": [
    {
     "data": {
      "text/plain": [
       "['C:/Users/89751/OneDrive/desktop/Text-embedding classification/Document/49.pdf',\n",
       " 'C:/Users/89751/OneDrive/desktop/Text-embedding classification/Document/50.pdf']"
      ]
     },
     "execution_count": 13,
     "metadata": {},
     "output_type": "execute_result"
    }
   ],
   "source": [
    "#read all pdf files from a specific directory\n",
    "directory = 'C:/Users/89751/OneDrive/desktop/Text-embedding classification/Document/'\n",
    "files = os.listdir(directory)\n",
    "pdf_files = [os.path.join(directory, file) for file in files]  #\n",
    "pdf_files"
   ]
  },
  {
   "cell_type": "code",
   "execution_count": 14,
   "id": "3112e9d3-3c0f-42ab-a68b-32ed8218854c",
   "metadata": {},
   "outputs": [
    {
     "data": {
      "text/html": [
       "<div>\n",
       "<style scoped>\n",
       "    .dataframe tbody tr th:only-of-type {\n",
       "        vertical-align: middle;\n",
       "    }\n",
       "\n",
       "    .dataframe tbody tr th {\n",
       "        vertical-align: top;\n",
       "    }\n",
       "\n",
       "    .dataframe thead th {\n",
       "        text-align: right;\n",
       "    }\n",
       "</style>\n",
       "<table border=\"1\" class=\"dataframe\">\n",
       "  <thead>\n",
       "    <tr style=\"text-align: right;\">\n",
       "      <th></th>\n",
       "      <th>Paper_title</th>\n",
       "    </tr>\n",
       "  </thead>\n",
       "  <tbody>\n",
       "    <tr>\n",
       "      <th>0</th>\n",
       "      <td>49</td>\n",
       "    </tr>\n",
       "    <tr>\n",
       "      <th>1</th>\n",
       "      <td>50</td>\n",
       "    </tr>\n",
       "  </tbody>\n",
       "</table>\n",
       "</div>"
      ],
      "text/plain": [
       "  Paper_title\n",
       "0          49\n",
       "1          50"
      ]
     },
     "execution_count": 14,
     "metadata": {},
     "output_type": "execute_result"
    }
   ],
   "source": [
    "df1 = extract_titles(pdf_files)\n",
    "df1"
   ]
  },
  {
   "cell_type": "code",
   "execution_count": 15,
   "id": "f0dfc569-7432-4393-ab30-9f1a69436cfb",
   "metadata": {},
   "outputs": [
    {
     "data": {
      "text/html": [
       "<div>\n",
       "<style scoped>\n",
       "    .dataframe tbody tr th:only-of-type {\n",
       "        vertical-align: middle;\n",
       "    }\n",
       "\n",
       "    .dataframe tbody tr th {\n",
       "        vertical-align: top;\n",
       "    }\n",
       "\n",
       "    .dataframe thead th {\n",
       "        text-align: right;\n",
       "    }\n",
       "</style>\n",
       "<table border=\"1\" class=\"dataframe\">\n",
       "  <thead>\n",
       "    <tr style=\"text-align: right;\">\n",
       "      <th></th>\n",
       "      <th>Paper_title</th>\n",
       "      <th>Table_title</th>\n",
       "    </tr>\n",
       "  </thead>\n",
       "  <tbody>\n",
       "    <tr>\n",
       "      <th>0</th>\n",
       "      <td>49</td>\n",
       "      <td>Table 1. LCA of bio-ethanol produced from conv...</td>\n",
       "    </tr>\n",
       "    <tr>\n",
       "      <th>1</th>\n",
       "      <td>50</td>\n",
       "      <td>Table 1 Input and output ﬂows of WS-EtOH produ...</td>\n",
       "    </tr>\n",
       "  </tbody>\n",
       "</table>\n",
       "</div>"
      ],
      "text/plain": [
       "  Paper_title                                        Table_title\n",
       "0          49  Table 1. LCA of bio-ethanol produced from conv...\n",
       "1          50  Table 1 Input and output ﬂows of WS-EtOH produ..."
      ]
     },
     "execution_count": 15,
     "metadata": {},
     "output_type": "execute_result"
    }
   ],
   "source": [
    "df2 = [table_titles(path) for path in pdf_files]\n",
    "\n",
    "# Concatenate all DataFrames into a single DataFrame\n",
    "df2 = pd.concat(df2, ignore_index=True)\n",
    "\n",
    "df = pd.concat([df1, df2], axis=1)\n",
    "df"
   ]
  },
  {
   "cell_type": "code",
   "execution_count": 16,
   "id": "c359daef-7e6a-4e93-9a0f-65f83d661a88",
   "metadata": {},
   "outputs": [
    {
     "name": "stdout",
     "output_type": "stream",
     "text": [
      "Table 1. LCA of bio-ethanol produced from conventional food  | Table 1  Ethanol pathways ’ LCA results compared in different studies.   | Table 2. These  | Table 4.  Energy-efficient scenario: the current LDG production process, as the  | Table 2  Data inventory for LDG-ethanol process.   | Table 5. LDG-ethanol route has  | Table 3  Data inventory for Corn-ethanol and Coal-ethanol.   | Table 4  Scenario description.   | Table 5  LCA characterization results.  \n"
     ]
    }
   ],
   "source": [
    "print(df['Table_title'][0])"
   ]
  },
  {
   "cell_type": "code",
   "execution_count": 17,
   "id": "dd1154c0-2bf3-40cf-a149-8812350d2b57",
   "metadata": {},
   "outputs": [
    {
     "data": {
      "text/html": [
       "<div>\n",
       "<style scoped>\n",
       "    .dataframe tbody tr th:only-of-type {\n",
       "        vertical-align: middle;\n",
       "    }\n",
       "\n",
       "    .dataframe tbody tr th {\n",
       "        vertical-align: top;\n",
       "    }\n",
       "\n",
       "    .dataframe thead th {\n",
       "        text-align: right;\n",
       "    }\n",
       "</style>\n",
       "<table border=\"1\" class=\"dataframe\">\n",
       "  <thead>\n",
       "    <tr style=\"text-align: right;\">\n",
       "      <th></th>\n",
       "      <th>Paper_title</th>\n",
       "      <th>Table_title</th>\n",
       "    </tr>\n",
       "  </thead>\n",
       "  <tbody>\n",
       "    <tr>\n",
       "      <th>0</th>\n",
       "      <td>49</td>\n",
       "      <td>Table 1. LCA of bio-ethanol produced from conv...</td>\n",
       "    </tr>\n",
       "    <tr>\n",
       "      <th>1</th>\n",
       "      <td>49</td>\n",
       "      <td>Table 1  Ethanol pathways ’ LCA results compa...</td>\n",
       "    </tr>\n",
       "    <tr>\n",
       "      <th>2</th>\n",
       "      <td>49</td>\n",
       "      <td>Table 2. These</td>\n",
       "    </tr>\n",
       "    <tr>\n",
       "      <th>3</th>\n",
       "      <td>49</td>\n",
       "      <td>Table 4.  Energy-efficient scenario: the curr...</td>\n",
       "    </tr>\n",
       "    <tr>\n",
       "      <th>4</th>\n",
       "      <td>49</td>\n",
       "      <td>Table 2  Data inventory for LDG-ethanol proce...</td>\n",
       "    </tr>\n",
       "    <tr>\n",
       "      <th>5</th>\n",
       "      <td>49</td>\n",
       "      <td>Table 5. LDG-ethanol route has</td>\n",
       "    </tr>\n",
       "    <tr>\n",
       "      <th>6</th>\n",
       "      <td>49</td>\n",
       "      <td>Table 3  Data inventory for Corn-ethanol and ...</td>\n",
       "    </tr>\n",
       "    <tr>\n",
       "      <th>7</th>\n",
       "      <td>49</td>\n",
       "      <td>Table 4  Scenario description.</td>\n",
       "    </tr>\n",
       "    <tr>\n",
       "      <th>8</th>\n",
       "      <td>49</td>\n",
       "      <td>Table 5  LCA characterization results.</td>\n",
       "    </tr>\n",
       "    <tr>\n",
       "      <th>9</th>\n",
       "      <td>50</td>\n",
       "      <td>Table 1 Input and output ﬂows of WS-EtOH produ...</td>\n",
       "    </tr>\n",
       "  </tbody>\n",
       "</table>\n",
       "</div>"
      ],
      "text/plain": [
       "  Paper_title                                        Table_title\n",
       "0          49  Table 1. LCA of bio-ethanol produced from conv...\n",
       "1          49   Table 1  Ethanol pathways ’ LCA results compa...\n",
       "2          49                                   Table 2. These  \n",
       "3          49   Table 4.  Energy-efficient scenario: the curr...\n",
       "4          49   Table 2  Data inventory for LDG-ethanol proce...\n",
       "5          49                   Table 5. LDG-ethanol route has  \n",
       "6          49   Table 3  Data inventory for Corn-ethanol and ...\n",
       "7          49                  Table 4  Scenario description.   \n",
       "8          49           Table 5  LCA characterization results.  \n",
       "9          50  Table 1 Input and output ﬂows of WS-EtOH produ..."
      ]
     },
     "execution_count": 17,
     "metadata": {},
     "output_type": "execute_result"
    }
   ],
   "source": [
    "df['Table_title'] = df['Table_title'].str.split('|')\n",
    "\n",
    "# Exploding the 'Table_title' list into multiple rows\n",
    "df_split = df.explode('Table_title')\n",
    "df_split.reset_index(drop=True, inplace=True)\n",
    "\n",
    "df_split"
   ]
  },
  {
   "cell_type": "code",
   "execution_count": 19,
   "id": "3fe41ab5-2f50-4cff-81a7-49862160448a",
   "metadata": {},
   "outputs": [],
   "source": [
    "file_name = 'C:/Users/89751/OneDrive/Desktop/Output_test.xlsx'\n",
    "df_split.to_excel(file_name)"
   ]
  },
  {
   "cell_type": "code",
   "execution_count": null,
   "id": "a08083d9-89ea-4dc7-94fc-99c81bc1256e",
   "metadata": {},
   "outputs": [],
   "source": []
  },
  {
   "cell_type": "code",
   "execution_count": null,
   "id": "9ef7fe5e-3f72-4199-8898-d52289ef691f",
   "metadata": {},
   "outputs": [],
   "source": []
  },
  {
   "cell_type": "code",
   "execution_count": null,
   "id": "507c30ea-7a2d-4d2a-94b7-d9efd6db6e8d",
   "metadata": {},
   "outputs": [],
   "source": []
  },
  {
   "cell_type": "code",
   "execution_count": null,
   "id": "011cbcb1-184d-47ca-894c-5731f4c45750",
   "metadata": {},
   "outputs": [],
   "source": []
  }
 ],
 "metadata": {
  "kernelspec": {
   "display_name": "Python 3 (ipykernel)",
   "language": "python",
   "name": "python3"
  },
  "language_info": {
   "codemirror_mode": {
    "name": "ipython",
    "version": 3
   },
   "file_extension": ".py",
   "mimetype": "text/x-python",
   "name": "python",
   "nbconvert_exporter": "python",
   "pygments_lexer": "ipython3",
   "version": "3.12.3"
  }
 },
 "nbformat": 4,
 "nbformat_minor": 5
}
