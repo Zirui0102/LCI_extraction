{
 "cells": [
  {
   "cell_type": "code",
   "execution_count": 11,
   "id": "07f22951-df04-4dfd-809d-ac64b3639ea8",
   "metadata": {},
   "outputs": [],
   "source": [
    "import PyPDF2\n",
    "import os\n",
    "import re\n",
    "import pandas as pd"
   ]
  },
  {
   "cell_type": "code",
   "execution_count": 12,
   "id": "d75412ab-48bc-4376-bd5f-d1db43037d7a",
   "metadata": {},
   "outputs": [],
   "source": [
    "def extract_tables_and_pages(pdf_path):\n",
    "    with open(pdf_path, 'rb') as file:\n",
    "        reader = PyPDF2.PdfReader(file)\n",
    "        num_pages = len(reader.pages)\n",
    "        data = []  # This will store tuples of (pdf_path, title, page)\n",
    "\n",
    "        # Regular expression to find table titles\n",
    "        table_title_regex = re.compile(r'[Tt][Aa][Bb][Ll][Ee]+\\.?+\\s*[A-Z]?\\d+\\.?\\s+[A-Z]+.*')\n",
    "\n",
    "        for i in range(num_pages):\n",
    "            page = reader.pages[i]\n",
    "            text = page.extract_text()\n",
    "            if text:\n",
    "                found_titles = table_title_regex.findall(text)\n",
    "                for title in found_titles:\n",
    "                    data.append((pdf_path, title, i))  # Append the path, title, and page number\n",
    "\n",
    "    # Create a DataFrame from the list of tuples\n",
    "    df = pd.DataFrame(data, columns=['pdf_path', 'Table_title', 'Page'])\n",
    "    df['Table_title'] = df['Table_title'].str.replace(r'\\n', ' ', regex=True)\n",
    "    return df"
   ]
  },
  {
   "cell_type": "code",
   "execution_count": 13,
   "id": "0d54a35f-e53e-4f74-8ed8-924f05c5ad25",
   "metadata": {},
   "outputs": [],
   "source": [
    "def extract_title_from_path(file_path):\n",
    "    \"\"\"Extract the title from the file name\"\"\"\n",
    "    file_name_with_extension = file_path.split('/')[-1]\n",
    "    # Remove the file extension\n",
    "    title = file_name_with_extension.replace('.pdf', '')\n",
    "    return title"
   ]
  },
  {
   "cell_type": "code",
   "execution_count": 14,
   "id": "5f7e4953-c7a6-4b74-a149-6a2e78df6ee4",
   "metadata": {},
   "outputs": [
    {
     "data": {
      "text/plain": [
       "['C:/Users/89751/OneDrive/desktop/Text-embedding classification/Document/test.pdf']"
      ]
     },
     "execution_count": 14,
     "metadata": {},
     "output_type": "execute_result"
    }
   ],
   "source": [
    "#read all pdf files from a specific directory\n",
    "directory = 'C:/Users/89751/OneDrive/desktop/Text-embedding classification/Document/'\n",
    "files = os.listdir(directory)\n",
    "pdf_files = [os.path.join(directory, file) for file in files]  #\n",
    "pdf_files"
   ]
  },
  {
   "cell_type": "code",
   "execution_count": 15,
   "id": "6e301087-8320-476d-a383-001154599c00",
   "metadata": {},
   "outputs": [
    {
     "data": {
      "text/html": [
       "<div>\n",
       "<style scoped>\n",
       "    .dataframe tbody tr th:only-of-type {\n",
       "        vertical-align: middle;\n",
       "    }\n",
       "\n",
       "    .dataframe tbody tr th {\n",
       "        vertical-align: top;\n",
       "    }\n",
       "\n",
       "    .dataframe thead th {\n",
       "        text-align: right;\n",
       "    }\n",
       "</style>\n",
       "<table border=\"1\" class=\"dataframe\">\n",
       "  <thead>\n",
       "    <tr style=\"text-align: right;\">\n",
       "      <th></th>\n",
       "      <th>pdf_path</th>\n",
       "      <th>Table_title</th>\n",
       "      <th>Page</th>\n",
       "    </tr>\n",
       "  </thead>\n",
       "  <tbody>\n",
       "    <tr>\n",
       "      <th>0</th>\n",
       "      <td>C:/Users/89751/OneDrive/desktop/Text-embedding...</td>\n",
       "      <td>Table 1 Key system design parameters.</td>\n",
       "      <td>1</td>\n",
       "    </tr>\n",
       "    <tr>\n",
       "      <th>1</th>\n",
       "      <td>C:/Users/89751/OneDrive/desktop/Text-embedding...</td>\n",
       "      <td>Table 2 Proximate and ultimate analyses of sam...</td>\n",
       "      <td>2</td>\n",
       "    </tr>\n",
       "    <tr>\n",
       "      <th>2</th>\n",
       "      <td>C:/Users/89751/OneDrive/desktop/Text-embedding...</td>\n",
       "      <td>Table 3 Composition of the crude syngas (vol %).</td>\n",
       "      <td>3</td>\n",
       "    </tr>\n",
       "    <tr>\n",
       "      <th>3</th>\n",
       "      <td>C:/Users/89751/OneDrive/desktop/Text-embedding...</td>\n",
       "      <td>Table 4 Input and output data of each unit of ...</td>\n",
       "      <td>5</td>\n",
       "    </tr>\n",
       "  </tbody>\n",
       "</table>\n",
       "</div>"
      ],
      "text/plain": [
       "                                            pdf_path  \\\n",
       "0  C:/Users/89751/OneDrive/desktop/Text-embedding...   \n",
       "1  C:/Users/89751/OneDrive/desktop/Text-embedding...   \n",
       "2  C:/Users/89751/OneDrive/desktop/Text-embedding...   \n",
       "3  C:/Users/89751/OneDrive/desktop/Text-embedding...   \n",
       "\n",
       "                                         Table_title  Page  \n",
       "0              Table 1 Key system design parameters.     1  \n",
       "1  Table 2 Proximate and ultimate analyses of sam...     2  \n",
       "2   Table 3 Composition of the crude syngas (vol %).     3  \n",
       "3  Table 4 Input and output data of each unit of ...     5  "
      ]
     },
     "execution_count": 15,
     "metadata": {},
     "output_type": "execute_result"
    }
   ],
   "source": [
    "df = [extract_tables_and_pages(path) for path in pdf_files]\n",
    "df = pd.concat(df, ignore_index=True)\n",
    "df"
   ]
  },
  {
   "cell_type": "code",
   "execution_count": 16,
   "id": "66b77e37-4f5e-49ba-be2e-d61f85462dbe",
   "metadata": {},
   "outputs": [
    {
     "data": {
      "text/html": [
       "<div>\n",
       "<style scoped>\n",
       "    .dataframe tbody tr th:only-of-type {\n",
       "        vertical-align: middle;\n",
       "    }\n",
       "\n",
       "    .dataframe tbody tr th {\n",
       "        vertical-align: top;\n",
       "    }\n",
       "\n",
       "    .dataframe thead th {\n",
       "        text-align: right;\n",
       "    }\n",
       "</style>\n",
       "<table border=\"1\" class=\"dataframe\">\n",
       "  <thead>\n",
       "    <tr style=\"text-align: right;\">\n",
       "      <th></th>\n",
       "      <th>title</th>\n",
       "      <th>Table_title</th>\n",
       "      <th>Page</th>\n",
       "    </tr>\n",
       "  </thead>\n",
       "  <tbody>\n",
       "    <tr>\n",
       "      <th>0</th>\n",
       "      <td>test</td>\n",
       "      <td>Table 1 Key system design parameters.</td>\n",
       "      <td>1</td>\n",
       "    </tr>\n",
       "    <tr>\n",
       "      <th>1</th>\n",
       "      <td>test</td>\n",
       "      <td>Table 2 Proximate and ultimate analyses of sam...</td>\n",
       "      <td>2</td>\n",
       "    </tr>\n",
       "    <tr>\n",
       "      <th>2</th>\n",
       "      <td>test</td>\n",
       "      <td>Table 3 Composition of the crude syngas (vol %).</td>\n",
       "      <td>3</td>\n",
       "    </tr>\n",
       "    <tr>\n",
       "      <th>3</th>\n",
       "      <td>test</td>\n",
       "      <td>Table 4 Input and output data of each unit of ...</td>\n",
       "      <td>5</td>\n",
       "    </tr>\n",
       "  </tbody>\n",
       "</table>\n",
       "</div>"
      ],
      "text/plain": [
       "  title                                        Table_title  Page\n",
       "0  test              Table 1 Key system design parameters.     1\n",
       "1  test  Table 2 Proximate and ultimate analyses of sam...     2\n",
       "2  test   Table 3 Composition of the crude syngas (vol %).     3\n",
       "3  test  Table 4 Input and output data of each unit of ...     5"
      ]
     },
     "execution_count": 16,
     "metadata": {},
     "output_type": "execute_result"
    }
   ],
   "source": [
    "#replace file names with the article titles\n",
    "df['pdf_path'] = df['pdf_path'].apply(extract_title_from_path)\n",
    "df = df.rename(columns={'pdf_path': 'title'})\n",
    "df"
   ]
  },
  {
   "cell_type": "code",
   "execution_count": null,
   "id": "28d9f7dc-0c71-4920-ba36-2c729a8f8aee",
   "metadata": {},
   "outputs": [],
   "source": []
  }
 ],
 "metadata": {
  "kernelspec": {
   "display_name": "Python 3 (ipykernel)",
   "language": "python",
   "name": "python3"
  },
  "language_info": {
   "codemirror_mode": {
    "name": "ipython",
    "version": 3
   },
   "file_extension": ".py",
   "mimetype": "text/x-python",
   "name": "python",
   "nbconvert_exporter": "python",
   "pygments_lexer": "ipython3",
   "version": "3.12.3"
  }
 },
 "nbformat": 4,
 "nbformat_minor": 5
}
