{
 "cells": [
  {
   "cell_type": "code",
   "execution_count": 1,
   "id": "8840f5e2-c21b-47f2-b4db-3e073786cf80",
   "metadata": {},
   "outputs": [
    {
     "name": "stdout",
     "output_type": "stream",
     "text": [
      "Requirement already satisfied: OpenAI in d:\\software\\anaconda\\lib\\site-packages (0.28.0)\n",
      "Requirement already satisfied: requests>=2.20 in d:\\software\\anaconda\\lib\\site-packages (from OpenAI) (2.25.1)\n",
      "Requirement already satisfied: aiohttp in d:\\software\\anaconda\\lib\\site-packages (from OpenAI) (3.9.5)\n",
      "Requirement already satisfied: tqdm in d:\\software\\anaconda\\lib\\site-packages (from OpenAI) (4.66.2)\n",
      "Requirement already satisfied: idna<3,>=2.5 in d:\\software\\anaconda\\lib\\site-packages (from requests>=2.20->OpenAI) (2.10)\n",
      "Requirement already satisfied: certifi>=2017.4.17 in d:\\software\\anaconda\\lib\\site-packages (from requests>=2.20->OpenAI) (2022.9.14)\n",
      "Requirement already satisfied: chardet<5,>=3.0.2 in d:\\software\\anaconda\\lib\\site-packages (from requests>=2.20->OpenAI) (4.0.0)\n",
      "Requirement already satisfied: urllib3<1.27,>=1.21.1 in d:\\software\\anaconda\\lib\\site-packages (from requests>=2.20->OpenAI) (1.26.18)\n",
      "Requirement already satisfied: frozenlist>=1.1.1 in d:\\software\\anaconda\\lib\\site-packages (from aiohttp->OpenAI) (1.4.1)\n",
      "Requirement already satisfied: attrs>=17.3.0 in d:\\software\\anaconda\\lib\\site-packages (from aiohttp->OpenAI) (21.4.0)\n",
      "Requirement already satisfied: yarl<2.0,>=1.0 in d:\\software\\anaconda\\lib\\site-packages (from aiohttp->OpenAI) (1.9.4)\n",
      "Requirement already satisfied: async-timeout<5.0,>=4.0 in d:\\software\\anaconda\\lib\\site-packages (from aiohttp->OpenAI) (4.0.3)\n",
      "Requirement already satisfied: aiosignal>=1.1.2 in d:\\software\\anaconda\\lib\\site-packages (from aiohttp->OpenAI) (1.3.1)\n",
      "Requirement already satisfied: multidict<7.0,>=4.5 in d:\\software\\anaconda\\lib\\site-packages (from aiohttp->OpenAI) (6.0.5)\n",
      "Requirement already satisfied: colorama in d:\\software\\anaconda\\lib\\site-packages (from tqdm->OpenAI) (0.4.5)\n",
      "Note: you may need to restart the kernel to use updated packages.\n"
     ]
    }
   ],
   "source": [
    "pip install OpenAI"
   ]
  },
  {
   "cell_type": "code",
   "execution_count": 1,
   "id": "f9a4d9dd-38ef-4ca6-87bc-937a8c6a11ff",
   "metadata": {},
   "outputs": [],
   "source": [
    "import openai\n",
    "import os"
   ]
  },
  {
   "cell_type": "code",
   "execution_count": 2,
   "id": "f4bd66fd-8080-4d90-8c3b-e762b6f77d27",
   "metadata": {},
   "outputs": [],
   "source": [
    "api_key = os.getenv('OPENAI_API_KET')"
   ]
  },
  {
   "cell_type": "code",
   "execution_count": 3,
   "id": "44cc8d70-1112-40ee-8625-b999071e43d7",
   "metadata": {},
   "outputs": [],
   "source": [
    "from openai import OpenAI"
   ]
  },
  {
   "cell_type": "code",
   "execution_count": 4,
   "id": "857abbf3-198d-4142-8d40-09cd5e70587d",
   "metadata": {},
   "outputs": [
    {
     "name": "stdout",
     "output_type": "stream",
     "text": [
      "Yes\n"
     ]
    }
   ],
   "source": [
    "client = OpenAI(\n",
    "    api_key=os.environ.get(\"OPENAI_API_KEY\"),\n",
    ")\n",
    "\n",
    "chat_completion = client.chat.completions.create(\n",
    "    messages=[\n",
    "        {\n",
    "            \"role\": \"user\",\n",
    "            \"content\": \"Do you know Tim Cook. Answer with Yes or No\",\n",
    "        }\n",
    "    ],\n",
    "    model=\"gpt-3.5-turbo\",\n",
    ")\n",
    "\n",
    "print(chat_completion.choices[0].message.content)"
   ]
  },
  {
   "cell_type": "code",
   "execution_count": 5,
   "id": "4f6c4cff-f762-40f7-97b0-bc334e5b5498",
   "metadata": {},
   "outputs": [
    {
     "name": "stdout",
     "output_type": "stream",
     "text": [
      "Question:Has MOF-5 been published before? Answer with Yes or No\n",
      "Answer:Yes\n",
      "Question:Has MOF-520 been published before? Answer with Yes or No\n",
      "Answer:Yes\n",
      "Question:Has MOF-999990 been published before? Answer with Yes or No\n",
      "Answer:No\n"
     ]
    }
   ],
   "source": [
    "mofs = [\"MOF-5\", \"MOF-520\", \"MOF-999990\"]\n",
    "\n",
    "for mof_name in mofs:\n",
    "    question = f\"Has {mof_name} been published before? Answer with Yes or No\"\n",
    "    response = client.chat.completions.create(\n",
    "    messages=[\n",
    "        {\n",
    "            \"role\": \"user\",\n",
    "            \"content\": question,\n",
    "        }\n",
    "    ],\n",
    "    model=\"gpt-3.5-turbo\")\n",
    "    \n",
    "    print(f'Question:{question}')\n",
    "    print(f'Answer:{response.choices[0].message.content}')\n",
    "        \n"
   ]
  },
  {
   "cell_type": "code",
   "execution_count": 11,
   "id": "21d74f98-e7fe-4d75-9f37-4d81b459235d",
   "metadata": {},
   "outputs": [
    {
     "name": "stdout",
     "output_type": "stream",
     "text": [
      "Answer:| compound name | metal source | metal amount | linker | linker amount | modulator | modulator amount or volume | solvent | solvent volume | reaction temperature | reaction time |\n",
      "| 1,3,5-benzenetricarboxylic acid, Zr-based MOF | ZrOCl2·8H2O | 970 mg | 1,3,5-benzenetricarboxylic acid | 210 mg | N/A | N/A | DMF, formic acid | 30 mL, 30 mL | 100 °C | 1 day |\n"
     ]
    }
   ],
   "source": [
    "context = \"\"\"Context: In a 100 mL media bottle were dissolved 1,3,5-benzenetricarboxylic acid (210 mg) and ZrOCl2·8H2O (970 mg) in a solution containing DMF (30 mL) and formic acid (30 mL). The\n",
    "bottle was sealed and heated in a 100 °C isothermal oven for a day. White powder was collected by centrifugation (8000 rpm, 3 min), washed with DMF three times (60 mL × 3) over a 24 h period, and\n",
    "then washed with acetone three times (60 mL × 3) over a 24 h period.\"\"\"\n",
    "\n",
    "\n",
    "prompt = \"\"\"Answer the question as truthfully as possible using the provided context. Please summarize the following details in a table: compound name or chemical formula (if the name is not provided), metal source, metal amount, organic linker(s), linker amount, modulator, modulator amount or volume, solvent(s), solvent volume(s), reaction temperature, and reaction time. \n",
    "If any information is not provided or you are unsure, use \"N/A\".Please focus on extracting experimental conditions from only the MOF synthesis and ignore information related to organic linker synthesis, MOF postsynthetic modification or metalation, high throughput (HT) experiment details, or catalysis reactions.\n",
    "If multiple conditions are provided for the same compound, use multiple rows to represent them. If multiple units or components are provided for the same factor (e.g. g and mol for the weight, multiple linker or metals, multiple temperature and reaction time, mixed solvents, etc.), include them in the same cell and separate by comma.\n",
    "The table should have 11 columns, all in lowercase:| compound name | metal source | metal amount | linker | linker amount | modulator | modulator amount or volume | solvent | solvent volume | reaction temperature | reaction time |\"\"\"\n",
    "\n",
    "response = client.chat.completions.create(\n",
    "    messages=[\n",
    "        {\n",
    "            \"role\": \"user\",\n",
    "            \"content\": f\"\"\"{prompt}...{context}...\"\"\",\n",
    "        }\n",
    "    ],\n",
    "    model=\"gpt-3.5-turbo\")\n",
    "    \n",
    "print(f'Answer:{response.choices[0].message.content}')\n",
    "\n",
    "\n"
   ]
  },
  {
   "cell_type": "code",
   "execution_count": 15,
   "id": "4b46a820",
   "metadata": {},
   "outputs": [
    {
     "name": "stdout",
     "output_type": "stream",
     "text": [
      "Answer:Yes\n",
      "Answer:No\n"
     ]
    }
   ],
   "source": [
    "contexts = [\n",
    "    \"\"\"In a 100 mL media bottle were dissolved 1,3,5-benzenetricarboxylic acid (210 mg) and ZrOCl2·8H2O (970 mg) in a solution containing DMF (30 mL) and formic acid (30 mL).\"\"\",\n",
    "    \"\"\"Single crystal X-ray analyses were performed at room temperature on a Siemens SMART platform diffractometer outfitted with an APEX II area detector and monochromatized Mo Kα radiation.\"\"\"\n",
    "]\n",
    "\n",
    "prompt = \"\"\"Determine whether the provided context includes a comprehensive MOF synthesis with explicit reactant quantities or solvent volumes, and answer with either Yes or No.\"\"\"\n",
    "\n",
    "question = \"\"\"Question: Does the section contain a comprehensive MOF synthesis with explicit reactant quantities or solvent volumes?\"\"\"\n",
    "\n",
    "for context in contexts:\n",
    "    message = {\"role\": \"user\",Det\n",
    "            \"content\": f\"\"\"{prompt}...{context}...{question}\"\"\",  \n",
    "    }\n",
    "    response = client.chat.completions.create(\n",
    "        model=\"gpt-3.5-turbo\",\n",
    "        messages=[message]\n",
    "    )\n",
    "\n",
    "    print(f'Answer:{response.choices[0].message.content}')"
   ]
  },
  {
   "cell_type": "code",
   "execution_count": null,
   "id": "50b56dcd",
   "metadata": {},
   "outputs": [],
   "source": []
  }
 ],
 "metadata": {
  "kernelspec": {
   "display_name": "Python 3 (ipykernel)",
   "language": "python",
   "name": "python3"
  },
  "language_info": {
   "codemirror_mode": {
    "name": "ipython",
    "version": 3
   },
   "file_extension": ".py",
   "mimetype": "text/x-python",
   "name": "python",
   "nbconvert_exporter": "python",
   "pygments_lexer": "ipython3",
   "version": "3.12.3"
  }
 },
 "nbformat": 4,
 "nbformat_minor": 5
}
