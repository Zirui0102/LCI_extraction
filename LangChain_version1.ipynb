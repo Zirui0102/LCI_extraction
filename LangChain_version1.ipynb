{
 "cells": [
  {
   "cell_type": "code",
   "execution_count": 2,
   "id": "da131f9f-9222-4fe7-ab52-0e1fcf26cc08",
   "metadata": {},
   "outputs": [
    {
     "name": "stdout",
     "output_type": "stream",
     "text": [
      "Extracted table titles:\n"
     ]
    }
   ],
   "source": [
    "import pdfplumber\n",
    "\n",
    "def extract_table_titles(pdf_path):\n",
    "    table_titles = []\n",
    "    with pdfplumber.open(pdf_path) as pdf:\n",
    "        for page in pdf.pages:\n",
    "            # Extract text from the page\n",
    "            text = page.extract_text()\n",
    "            if text:\n",
    "                # Split the text into lines\n",
    "                lines = text.split('\\n')\n",
    "                for i, line in enumerate(lines):\n",
    "                    # Check for keywords or formatting indicative of a title; adjust conditions as needed\n",
    "                    if \"Table\" in line and len(line) < 50:  # Assuming titles contain \"Table\" and are short\n",
    "                        table_titles.append(line)\n",
    "                        # Optional: check the next few lines to confirm if they look like a table header\n",
    "                        if i + 1 < len(lines):\n",
    "                            next_line = lines[i + 1]\n",
    "                            if any(char.isdigit() for char in next_line):  # Check if next line has numbers\n",
    "                                table_titles.append(line)  # Confirm it's likely a table title\n",
    "    return table_titles\n",
    "\n",
    "# Example usage\n",
    "pdf_path = 'C:/Users/89751/OneDrive/Desktop/Text-embedding classification/has_recorded/1.pdf'\n",
    "titles = extract_table_titles(pdf_path)\n",
    "print(\"Extracted table titles:\")\n",
    "for title in titles:\n",
    "    print(title)"
   ]
  },
  {
   "cell_type": "code",
   "execution_count": null,
   "id": "bb1b4774-2e59-4a2a-90aa-21f82483b2dd",
   "metadata": {},
   "outputs": [],
   "source": []
  }
 ],
 "metadata": {
  "kernelspec": {
   "display_name": "Python 3 (ipykernel)",
   "language": "python",
   "name": "python3"
  },
  "language_info": {
   "codemirror_mode": {
    "name": "ipython",
    "version": 3
   },
   "file_extension": ".py",
   "mimetype": "text/x-python",
   "name": "python",
   "nbconvert_exporter": "python",
   "pygments_lexer": "ipython3",
   "version": "3.12.3"
  }
 },
 "nbformat": 4,
 "nbformat_minor": 5
}
